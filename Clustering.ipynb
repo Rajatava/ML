{
  "nbformat": 4,
  "nbformat_minor": 0,
  "metadata": {
    "colab": {
      "name": "Clustering.ipynb",
      "provenance": [],
      "authorship_tag": "ABX9TyMPWcrni0lLjbmy7eYz8SNJ",
      "include_colab_link": true
    },
    "kernelspec": {
      "name": "python3",
      "display_name": "Python 3"
    }
  },
  "cells": [
    {
      "cell_type": "markdown",
      "metadata": {
        "id": "view-in-github",
        "colab_type": "text"
      },
      "source": [
        "<a href=\"https://colab.research.google.com/github/Rajatava/ML/blob/main/Clustering.ipynb\" target=\"_parent\"><img src=\"https://colab.research.google.com/assets/colab-badge.svg\" alt=\"Open In Colab\"/></a>"
      ]
    },
    {
      "cell_type": "markdown",
      "metadata": {
        "id": "TAPNnnMbID8o"
      },
      "source": [
        "##Kmeans"
      ]
    },
    {
      "cell_type": "code",
      "metadata": {
        "id": "Ck-RSt1pH-lu"
      },
      "source": [
        "from sklearn.cluster import KMeans\n",
        "import numpy as np\n",
        "\n",
        "#let x be the training dataset and y be the test dataset\n",
        "X = np.array(x)\n",
        "y = np.array(y)\n",
        "clustering = KMeans(n_clusters=2, random_state=0).fit(X)\n",
        "labels = clustering.labels_\n",
        "centers = clustering.cluster_centers_\n",
        "clustering.predict(y)"
      ],
      "execution_count": null,
      "outputs": []
    },
    {
      "cell_type": "markdown",
      "metadata": {
        "id": "B47MNFv7JW-u"
      },
      "source": [
        "##DBSCAN"
      ]
    },
    {
      "cell_type": "code",
      "metadata": {
        "id": "u79UdQthJXp1"
      },
      "source": [
        "from sklearn.cluster import DBSCAN\n",
        "import numpy as np\n",
        "\n",
        "#let x be the training dataset and y be the test dataset\n",
        "X = np.array(x)\n",
        "y = np.array(y)\n",
        "clustering = DBSCAN(eps=3, min_samples=2).fit(X)\n",
        "labels = clustering.labels_\n",
        "clustering.fit_predict(y)"
      ],
      "execution_count": 8,
      "outputs": []
    },
    {
      "cell_type": "markdown",
      "metadata": {
        "id": "Wv_y4HluPvdC"
      },
      "source": [
        "##GMM"
      ]
    },
    {
      "cell_type": "code",
      "metadata": {
        "id": "ulcXSN8_Jx01"
      },
      "source": [
        "from sklearn.mixture import GaussianMixture\n",
        "import numpy as np\n",
        "\n",
        "#let x be the training dataset and y be the test dataset\n",
        "X = np.array(x)\n",
        "y = np.array(y)\n",
        "clustering = GaussianMixture(n_components=2).fit(X)\n",
        "params=clustering.get_params()  \n",
        "g_mean = clustering.means_ \n",
        "g_var = clustering.covariances_\n",
        "clustering.predict(y)"
      ],
      "execution_count": null,
      "outputs": []
    },
    {
      "cell_type": "markdown",
      "metadata": {
        "id": "zVn5kUZbRtoN"
      },
      "source": [
        "##Mean Shift"
      ]
    },
    {
      "cell_type": "code",
      "metadata": {
        "id": "BfkPy38hNsd6"
      },
      "source": [
        "from sklearn.cluster import AgglomerativeClustering\n",
        "import numpy as np\n",
        "\n",
        "#let x be the training dataset and y be the test dataset\n",
        "X = np.array(x)\n",
        "y = np.array(y)\n",
        "clustering = AgglomerativeClustering().fit(X)\n",
        "labels = clustering.labels_\n",
        "clustering.fit_predict(y)"
      ],
      "execution_count": null,
      "outputs": []
    },
    {
      "cell_type": "markdown",
      "metadata": {
        "id": "IrZG_PvRRHIK"
      },
      "source": [
        "##Agglomerative Hierarchical Clustering"
      ]
    },
    {
      "cell_type": "code",
      "metadata": {
        "id": "LazyAhoNOKIv",
        "outputId": "9cce0443-e827-41b3-a135-f351fa0506e9",
        "colab": {
          "base_uri": "https://localhost:8080/"
        }
      },
      "source": [
        "from sklearn.cluster import MeanShift\n",
        "import numpy as np\n",
        "#let x be the training dataset and y be the test dataset\n",
        "X = np.array(x)\n",
        "y = np.array(y)\n",
        "\n",
        "clustering = MeanShift(bandwidth=2).fit(X)\n",
        "labels = clustering.labels_\n",
        "clustering.predict(y)"
      ],
      "execution_count": 22,
      "outputs": [
        {
          "output_type": "execute_result",
          "data": {
            "text/plain": [
              "array([0, 1])"
            ]
          },
          "metadata": {
            "tags": []
          },
          "execution_count": 22
        }
      ]
    }
  ]
}